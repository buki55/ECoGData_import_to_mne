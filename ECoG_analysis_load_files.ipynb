{
 "cells": [
  {
   "cell_type": "code",
   "execution_count": 1,
   "metadata": {},
   "outputs": [],
   "source": [
    "import numpy as np\n",
    "import scipy.io\n",
    "import glob\n",
    "import re\n",
    "\n",
    "_indir = '/Users/kohei/ECoG/'\n",
    "def load_mat(path):\n",
    "    return scipy.io.loadmat(path) \n",
    "\n",
    "def load_ecog_mats(path):\n",
    "    \"\"\"\n",
    "    load ECoGData in dir and convert to list\n",
    "    \"\"\"\n",
    "    pat = re.compile(r'ch(\\d+)\\.')\n",
    "    files = glob.glob(path+\"*_ch*\")\n",
    "    dic={}\n",
    "    for f in files:\n",
    "        result = pat.search(f)\n",
    "        if result:\n",
    "            id = result.group(1)\n",
    "            name = \"ECoGData_ch\"+id\n",
    "            dic[int(id)] = load_mat(f)[name][0]\n",
    "    ret = []\n",
    "    for k in sorted(dic.keys()):#電極の番号順に並び替え\n",
    "        ret.append(dic[k])\n",
    "    return ret"
   ]
  },
  {
   "cell_type": "code",
   "execution_count": 2,
   "metadata": {},
   "outputs": [
    {
     "data": {
      "text/plain": [
       "[array([456, 432, 425, ..., 302, 347, 346], dtype=int16)]"
      ]
     },
     "execution_count": 2,
     "metadata": {},
     "output_type": "execute_result"
    }
   ],
   "source": [
    "data = load_ecog_mats(_indir)\n",
    "data"
   ]
  },
  {
   "cell_type": "code",
   "execution_count": 3,
   "metadata": {},
   "outputs": [
    {
     "name": "stdout",
     "output_type": "stream",
     "text": [
      "Creating RawArray with float64 data, n_channels=1, n_times=601351\n",
      "    Range : 0 ... 601350 =      0.000 ...   601.350 secs\n",
      "Ready.\n",
      "<RawArray  |  None, n_channels x n_times : 1 x 601351 (601.4 sec), ~4.6 MB, data loaded>\n"
     ]
    }
   ],
   "source": [
    "# import data into mne\n",
    "import mne\n",
    "sfreq = 1000.0 # サンプリング周波数\n",
    "info = mne.create_info(ch_names=1, ch_types='ecog', sfreq=sfreq)\n",
    "custom_raw = mne.io.RawArray(data, info)\n",
    "print(custom_raw)"
   ]
  }
 ],
 "metadata": {
  "kernelspec": {
   "display_name": "Python 3",
   "language": "python",
   "name": "python3"
  },
  "language_info": {
   "codemirror_mode": {
    "name": "ipython",
    "version": 3
   },
   "file_extension": ".py",
   "mimetype": "text/x-python",
   "name": "python",
   "nbconvert_exporter": "python",
   "pygments_lexer": "ipython3",
   "version": "3.6.5"
  }
 },
 "nbformat": 4,
 "nbformat_minor": 2
}
